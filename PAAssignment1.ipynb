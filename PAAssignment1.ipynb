{
 "cells": [
  {
   "cell_type": "markdown",
   "id": "02b94fb9",
   "metadata": {},
   "source": [
    "que1- What is the purpose of Python's OOP?"
   ]
  },
  {
   "cell_type": "markdown",
   "id": "f024d33a",
   "metadata": {},
   "source": [
    "ans1- Object-oriented programming: As the name suggests, Object-Oriented Programming or OOPs refers to languages that uses objects in programming. Object-oriented programming aims to implement real-world entities like inheritance, hiding, polymorphism etc in programming."
   ]
  },
  {
   "cell_type": "markdown",
   "id": "1d008c2f",
   "metadata": {},
   "source": [
    "que2- Where does an inheritance search look for an attribute?"
   ]
  },
  {
   "cell_type": "markdown",
   "id": "4c012177",
   "metadata": {},
   "source": [
    "ans2- The inheritance search is simply a search of the tree from bottom to top looking for the lowest occurrence of an attribute name."
   ]
  },
  {
   "cell_type": "markdown",
   "id": "3519eab0",
   "metadata": {},
   "source": [
    "que3- How do you distinguish between a class object and an instance object?"
   ]
  },
  {
   "cell_type": "markdown",
   "id": "a385293b",
   "metadata": {},
   "source": [
    "ans3- Class object : A compound data type that is often used to model a thing or concept in the real world. It bundles together the data and the operations that are relevant for that kind of data. Instance and object are used interchangeably.\n",
    "\n",
    "Instance Object : An object whose type is of some class."
   ]
  },
  {
   "cell_type": "markdown",
   "id": "3a441a63",
   "metadata": {},
   "source": [
    "que4- What makes the first argument in a class’s method function special?"
   ]
  },
  {
   "cell_type": "markdown",
   "id": "e6cd4202",
   "metadata": {},
   "source": [
    "ans4- In object-oriented programming, whenever we define methods for a class, we use self as the first parameter in each case."
   ]
  },
  {
   "cell_type": "markdown",
   "id": "52166706",
   "metadata": {},
   "source": [
    "que5- What is the purpose of the __init__ method?"
   ]
  },
  {
   "cell_type": "markdown",
   "id": "d2a077f0",
   "metadata": {},
   "source": [
    "ans5- \"__init__\" is a reseved method in python classes. It is called as a constructor in object oriented terminology. This method is called when an object is created from a class and it allows the class to initialize the attributes of the class."
   ]
  },
  {
   "cell_type": "markdown",
   "id": "a851cd91",
   "metadata": {},
   "source": [
    "que6- What is the process for creating a class instance?"
   ]
  },
  {
   "cell_type": "markdown",
   "id": "f0e4859a",
   "metadata": {},
   "source": [
    "ans6- When you create an object, you are creating an instance of a class, therefore \"instantiating\" a class."
   ]
  },
  {
   "cell_type": "markdown",
   "id": "60db18df",
   "metadata": {},
   "source": [
    "que7- What is the process for creating a class?"
   ]
  },
  {
   "cell_type": "markdown",
   "id": "25a6cc4b",
   "metadata": {},
   "source": [
    "ans7- "
   ]
  },
  {
   "cell_type": "code",
   "execution_count": 1,
   "id": "9626f5b8",
   "metadata": {},
   "outputs": [],
   "source": [
    "class demo:\n",
    "    '''I have created a new class.'''\n",
    "    pass"
   ]
  },
  {
   "cell_type": "markdown",
   "id": "9ea515c4",
   "metadata": {},
   "source": [
    "que8- How would you define the superclasses of a class?"
   ]
  },
  {
   "cell_type": "markdown",
   "id": "609775d4",
   "metadata": {},
   "source": [
    "ans8- A superclass is the class from which many subclasses can be created. The subclasses inherit the characteristics of a superclass."
   ]
  }
 ],
 "metadata": {
  "kernelspec": {
   "display_name": "Python 3 (ipykernel)",
   "language": "python",
   "name": "python3"
  },
  "language_info": {
   "codemirror_mode": {
    "name": "ipython",
    "version": 3
   },
   "file_extension": ".py",
   "mimetype": "text/x-python",
   "name": "python",
   "nbconvert_exporter": "python",
   "pygments_lexer": "ipython3",
   "version": "3.9.7"
  }
 },
 "nbformat": 4,
 "nbformat_minor": 5
}
