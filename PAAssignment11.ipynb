{
 "cells": [
  {
   "cell_type": "markdown",
   "id": "0cee933a",
   "metadata": {},
   "source": [
    "que1- What is the concept of a metaclass?"
   ]
  },
  {
   "cell_type": "markdown",
   "id": "2f6be83a",
   "metadata": {},
   "source": [
    "ans1- Metaclass in Python is a class of a class that defines how a class behaves. A class is itself a instance of Metaclass, and any Instance of Class in Python is an Instance of type metaclass. E.g. Type of of int, str, float, list, tuple and many more is of metaclass type."
   ]
  },
  {
   "cell_type": "markdown",
   "id": "a01f3b1f",
   "metadata": {},
   "source": [
    "que2- What is the best way to declare a class's metaclass?"
   ]
  },
  {
   "cell_type": "markdown",
   "id": "1fbb6821",
   "metadata": {},
   "source": [
    "ans2- A way to declare a class’s metaclass is by using __metaclass__ keyword in class definition."
   ]
  },
  {
   "cell_type": "code",
   "execution_count": 1,
   "id": "ac6a2c15",
   "metadata": {},
   "outputs": [
    {
     "name": "stdout",
     "output_type": "stream",
     "text": [
      "<class 'type'>\n",
      "<class '__main__.meta'>\n"
     ]
    }
   ],
   "source": [
    "class meta(type):\n",
    "    pass\n",
    "class class_meta(metaclass=meta):\n",
    "    pass\n",
    "print(type(meta))\n",
    "print(type(class_meta))"
   ]
  },
  {
   "cell_type": "markdown",
   "id": "5a2bfa9c",
   "metadata": {},
   "source": [
    "que3- How do class decorators overlap with metaclasses for handling classes?"
   ]
  },
  {
   "cell_type": "markdown",
   "id": "9c37a538",
   "metadata": {},
   "source": [
    "ans3- Anything you can do with a class decorator, you can of course do with a custom metaclasses (just apply the functionality of the \"decorator function\", i.e., the one that takes a class object and modifies it, in the course of the metaclass's ____ new____ or ____ init____ that make the class object!)."
   ]
  },
  {
   "cell_type": "markdown",
   "id": "9cb959d9",
   "metadata": {},
   "source": [
    "que4- How do class decorators overlap with metaclasses for handling instances?"
   ]
  },
  {
   "cell_type": "markdown",
   "id": "69902492",
   "metadata": {},
   "source": [
    "ans4- Anything you can do with a class decorator, you can of course do with a custom metaclasses (just apply the functionality of the \"decorator function\", i.e., the one that takes a class object and modifies it, in the course of the metaclass's ____ new____ or ____ init____ that make the class object!)."
   ]
  }
 ],
 "metadata": {
  "kernelspec": {
   "display_name": "Python 3 (ipykernel)",
   "language": "python",
   "name": "python3"
  },
  "language_info": {
   "codemirror_mode": {
    "name": "ipython",
    "version": 3
   },
   "file_extension": ".py",
   "mimetype": "text/x-python",
   "name": "python",
   "nbconvert_exporter": "python",
   "pygments_lexer": "ipython3",
   "version": "3.9.7"
  }
 },
 "nbformat": 4,
 "nbformat_minor": 5
}
