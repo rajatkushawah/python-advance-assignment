{
 "cells": [
  {
   "cell_type": "markdown",
   "id": "908188eb",
   "metadata": {},
   "source": [
    "que1- Does assigning a value to a string's indexed character violate Python's string immutability?"
   ]
  },
  {
   "cell_type": "markdown",
   "id": "8af1a267",
   "metadata": {},
   "source": [
    "ans1- String’s indexed character cannot to be assigned a New value , as Strings are immutable. We can assign a value to a string's indexed character it doesn't violate Python's string immutability because for ding that we first have to split the string word into characters which leaves us with simple character string we can replace it easily with some other character but still it will be string even if the replaced value will be an interger or floting number or anything."
   ]
  },
  {
   "cell_type": "markdown",
   "id": "ccec0717",
   "metadata": {},
   "source": [
    "que2- Does using the += operator to concatenate strings violate Python's string immutability? Why or why not?"
   ]
  },
  {
   "cell_type": "markdown",
   "id": "81524ccd",
   "metadata": {},
   "source": [
    "ans2- += operator is used to concatenate strings, it does not violate Python’s string immutability Property. Because doing so new creates a new association with data and variable. E.g. str_1=\"a\" and str_1+=\"b. effect of this statements to create string ab and reassign it to variable str_1, any string data is not actually modified."
   ]
  },
  {
   "cell_type": "code",
   "execution_count": 1,
   "id": "51ae4c39",
   "metadata": {},
   "outputs": [
    {
     "name": "stdout",
     "output_type": "stream",
     "text": [
      "339413485232\n",
      "339488279536\n"
     ]
    }
   ],
   "source": [
    "str_1 = 'a'\n",
    "print(id(str_1))\n",
    "str_1 += 'b'\n",
    "print(id(str_1))"
   ]
  },
  {
   "cell_type": "markdown",
   "id": "1e22a51d",
   "metadata": {},
   "source": [
    "que3- In Python, how many different ways are there to index a character?"
   ]
  },
  {
   "cell_type": "markdown",
   "id": "cc8a9d36",
   "metadata": {},
   "source": [
    "ans3- A Character in string can be indexed using string name followed by index number of character in square bracket. __Positive Indexing__ i.e. first index is 0 an so on, or __Negative Indexing__ i.e. last letter is -1 and so on can be used to index a character"
   ]
  },
  {
   "cell_type": "code",
   "execution_count": 3,
   "id": "c778aea5",
   "metadata": {},
   "outputs": [
    {
     "name": "stdout",
     "output_type": "stream",
     "text": [
      "k D l\n",
      "e i c\n"
     ]
    }
   ],
   "source": [
    "in_string = \"Full Stack Data Science\"\n",
    "print(in_string[9],in_string[11],in_string[2]) # Positive Indexing\n",
    "print(in_string[-1],in_string[-5],in_string[-2]) # Negative Indexing"
   ]
  },
  {
   "cell_type": "markdown",
   "id": "b025560d",
   "metadata": {},
   "source": [
    "que4- What is the relationship between indexing and slicing?"
   ]
  },
  {
   "cell_type": "markdown",
   "id": "cc97301f",
   "metadata": {},
   "source": [
    "ans4- We can access elements of sequence datatypes by using slicing and indexing. Indexing is used to obtaining individual element while slicing for sequence of elements."
   ]
  },
  {
   "cell_type": "code",
   "execution_count": 5,
   "id": "ab8e8cc3",
   "metadata": {},
   "outputs": [
    {
     "name": "stdout",
     "output_type": "stream",
     "text": [
      "u l S\n",
      "ull Stack Dat\n"
     ]
    }
   ],
   "source": [
    "in_string = \"Full Stack Data Science\"\n",
    "print(in_string[1],in_string[3],in_string[5]) # Indexing\n",
    "print(in_string[1:14]) # Slicing"
   ]
  },
  {
   "cell_type": "markdown",
   "id": "ac3c7247",
   "metadata": {},
   "source": [
    "que5- What is an indexed character's exact data type? What is the data form of a slicing-generated substring?"
   ]
  },
  {
   "cell_type": "markdown",
   "id": "417681db",
   "metadata": {},
   "source": [
    "ans5- The type in slicing remains the same type in which it is entered. But in indexing the they may differ. An example is shown below to explain this."
   ]
  },
  {
   "cell_type": "code",
   "execution_count": 10,
   "id": "3f13ca60",
   "metadata": {},
   "outputs": [
    {
     "name": "stdout",
     "output_type": "stream",
     "text": [
      "<class 'str'>\n",
      "<class 'str'>\n"
     ]
    }
   ],
   "source": [
    "in_string = \"Full Stack Data Science\"\n",
    "print(type(in_string[1])) # Indexing\n",
    "print(type(in_string[1:14])) # Slicing"
   ]
  },
  {
   "cell_type": "markdown",
   "id": "67da40e1",
   "metadata": {},
   "source": [
    "que6- is the relationship between string and character \"types\" in Python?"
   ]
  },
  {
   "cell_type": "markdown",
   "id": "7fd7ae79",
   "metadata": {},
   "source": [
    "ans6- Object that contains sequence of character datatypes are called String."
   ]
  },
  {
   "cell_type": "markdown",
   "id": "5a59ddf1",
   "metadata": {},
   "source": [
    "que7- Identify at least two operators and one method that allow you to combine one or more smaller strings to create a larger string."
   ]
  },
  {
   "cell_type": "markdown",
   "id": "55cfd421",
   "metadata": {},
   "source": [
    "ans7- __+, += and *__ allow to combine one or more smaller strings to create a larger string. `<string>.join(<sep>)` method joins element of iterable type like list and tuple to get a combined string."
   ]
  },
  {
   "cell_type": "code",
   "execution_count": 11,
   "id": "c2028635",
   "metadata": {},
   "outputs": [
    {
     "name": "stdout",
     "output_type": "stream",
     "text": [
      "iNeuron Full Stack Data Science FSDS\n",
      "FSDS FSDS FSDS \n",
      "I N E U R O N\n"
     ]
    }
   ],
   "source": [
    "in_string = 'iNeuron '\n",
    "in_string += 'Full Stack Data Science'\n",
    "print(in_string + ' FSDS')\n",
    "print('FSDS '*3)\n",
    "print(\" \".join(['I','N','E','U','R','O','N']))"
   ]
  },
  {
   "cell_type": "markdown",
   "id": "297a66b9",
   "metadata": {},
   "source": [
    "que8- What is the benefit of first checking the target string with in or not in before using the index method to find a substring?"
   ]
  },
  {
   "cell_type": "markdown",
   "id": "368cf4e5",
   "metadata": {},
   "source": [
    "ans8- Checking the target string with in or not Operators before using the index method to find a substring just helps confirming availability of substring and thus avoid raising of ValueError."
   ]
  },
  {
   "cell_type": "markdown",
   "id": "5c95db55",
   "metadata": {},
   "source": [
    "que9- Which operators and built-in string methods produce simple Boolean (true/false) results?"
   ]
  },
  {
   "cell_type": "markdown",
   "id": "20558d31",
   "metadata": {},
   "source": [
    "ans9- The String Operators and built-in methods to Produce Simple Boolean (True/False) Results are:"
   ]
  },
  {
   "cell_type": "markdown",
   "id": "15ef472f",
   "metadata": {},
   "source": [
    "- `in`\n",
    "- `not`\n",
    "- `<string>.isalpha()`\n",
    "- `<string>.isalnum()`\n",
    "- `<string>.isdecimal()`\n",
    "- `<string>.isdigit()`\n",
    "- `<string>.islower()`\n",
    "- `<string>.isnumeric()`\n",
    "- `<string>.isprintable()`\n",
    "- `<string>.isspace()`\n",
    "- `<string>.istitle()`"
   ]
  }
 ],
 "metadata": {
  "kernelspec": {
   "display_name": "Python 3 (ipykernel)",
   "language": "python",
   "name": "python3"
  },
  "language_info": {
   "codemirror_mode": {
    "name": "ipython",
    "version": 3
   },
   "file_extension": ".py",
   "mimetype": "text/x-python",
   "name": "python",
   "nbconvert_exporter": "python",
   "pygments_lexer": "ipython3",
   "version": "3.9.7"
  }
 },
 "nbformat": 4,
 "nbformat_minor": 5
}
