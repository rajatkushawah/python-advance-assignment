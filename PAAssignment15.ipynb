{
 "cells": [
  {
   "cell_type": "markdown",
   "id": "ed789a4b",
   "metadata": {},
   "source": [
    "que1- What are the new features added in Python 3.8 version?"
   ]
  },
  {
   "cell_type": "markdown",
   "id": "9929580c",
   "metadata": {},
   "source": [
    "ans1- __Walrus Operator__: This operator is used to assign and return a value in the same expression. This removes the need for initializing the variable upfront. The major benefit of this is it saves some lines of code. It is also known as The Walrus Operator due to its similarity to the eyes and tusks of a walrus.\n",
    "\n",
    "yield and return statements do not require parentheses to return multiple values.\n",
    "\n",
    "Reversed works with a dictionary. The built-in method reversed() can be used for accessing the elements in the reverse order of insertion\n",
    "\n",
    "Dict comprehensions have been modified so that the key is computed first and the value second.\n",
    "\n",
    "importlib_metadata is a new library added in the Python’s standard utility modules, that provides an API for accessing an installed package’s metadata, such as its entry points or its top-level name.\n",
    "\n",
    "f-strings now support = , to make string interpolation easy. Python 3.8 allows the use of the above-discussed assignment operator and equal sign (=) inside the f-strings.\n",
    "\n",
    "In the three-argument form of pow(), when the exponent is -1, it calculates the modular multiplicative inverse of the given value\n",
    "\n",
    "The csv.DictReader now returns instances of dictionary instead of a collections.OrderedDict.\n",
    "\n",
    "If you miss a comma in your code such as a = [(1, 2) (3, 4)], instead of throwing TypeError, it displays an informative Syntax warning."
   ]
  },
  {
   "cell_type": "markdown",
   "id": "da3717ad",
   "metadata": {},
   "source": [
    "que2- What is monkey patching in Python?"
   ]
  },
  {
   "cell_type": "markdown",
   "id": "134cbfc3",
   "metadata": {},
   "source": [
    "ans2- In Python, the term monkey patch refers to making dynamic (or run-time) modifications to a class or module. In Python, we can actually change the behavior of code at run-time."
   ]
  },
  {
   "cell_type": "markdown",
   "id": "60df43cd",
   "metadata": {},
   "source": [
    "que3- What is the difference between a shallow copy and deep copy?"
   ]
  },
  {
   "cell_type": "markdown",
   "id": "e2e592c0",
   "metadata": {},
   "source": [
    "ans3- When an object is copied using `copy()`, it is called __shallow copy__ as changes made in copied object will also make corresponding changes in original object, because both the objects will be referencing same address location.\n",
    "\n",
    "When an object is copied using `deepcopy()`, it is called __deep copy__ as changes made in copied object will not make corresponding changes in original object, because both the objects will not be referencing same address location."
   ]
  },
  {
   "cell_type": "markdown",
   "id": "ad19f09b",
   "metadata": {},
   "source": [
    "que4- What is the maximum possible length of an identifier?"
   ]
  },
  {
   "cell_type": "markdown",
   "id": "ce7403b5",
   "metadata": {},
   "source": [
    "ans4- In Python, the highest possible length of an identifier is 79 characters. Python is a high level programming language. It’s also a complex form and a collector of waste."
   ]
  },
  {
   "cell_type": "markdown",
   "id": "e09e8405",
   "metadata": {},
   "source": [
    "que5- What is generator comprehension?"
   ]
  },
  {
   "cell_type": "markdown",
   "id": "a82e819d",
   "metadata": {},
   "source": [
    "ans5- A generator comprehension is a single-line specification for defining a generator in Python."
   ]
  }
 ],
 "metadata": {
  "kernelspec": {
   "display_name": "Python 3 (ipykernel)",
   "language": "python",
   "name": "python3"
  },
  "language_info": {
   "codemirror_mode": {
    "name": "ipython",
    "version": 3
   },
   "file_extension": ".py",
   "mimetype": "text/x-python",
   "name": "python",
   "nbconvert_exporter": "python",
   "pygments_lexer": "ipython3",
   "version": "3.9.7"
  }
 },
 "nbformat": 4,
 "nbformat_minor": 5
}
