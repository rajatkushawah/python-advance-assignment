{
 "cells": [
  {
   "cell_type": "markdown",
   "id": "668a5f51",
   "metadata": {},
   "source": [
    "que1- What is the benefit of regular expressions?"
   ]
  },
  {
   "cell_type": "markdown",
   "id": "048fe26d",
   "metadata": {},
   "source": [
    "ans1- Regular Expressions, also known as __regex__ or __regexp__, are used to match strings of text such as particular characters, words, or patterns of characters. It means that we can match and extract any string pattern from the text with the help of regular expressions. it helps the programmers to Write less and cleaner code. it also avoids multiple use of if/else statements."
   ]
  },
  {
   "cell_type": "markdown",
   "id": "12bc5fbc",
   "metadata": {},
   "source": [
    "que2- Describe the difference between the effects of \"(ab)c+\" and \"a(bc)+.\" Which of these, if any, is the unqualified pattern \"abc+\"?"
   ]
  },
  {
   "cell_type": "markdown",
   "id": "e19c0682",
   "metadata": {},
   "source": [
    "ans2- Both (ab)c+ and a(bc)+ are valid patterns. the difference between both these patterns is in (ab)c+ ab is group whereas in a(bc)+ bc is a group."
   ]
  },
  {
   "cell_type": "markdown",
   "id": "34e4043b",
   "metadata": {},
   "source": [
    "que3- How much do you need to use the following sentence while using regular expressions?\n",
    "\n",
    "import re"
   ]
  },
  {
   "cell_type": "markdown",
   "id": "db6285a7",
   "metadata": {},
   "source": [
    "ans3- import re statement always has to be imported before using regular expressions."
   ]
  },
  {
   "cell_type": "markdown",
   "id": "a1988d31",
   "metadata": {},
   "source": [
    "que4- Which characters have special significance in square brackets when expressing a range, and under what circumstances?"
   ]
  },
  {
   "cell_type": "markdown",
   "id": "39e955c2",
   "metadata": {},
   "source": [
    "ans4- The Characters __.,*,?,^,or,()__, have a special signiface when used with square brackets. They need not be be explicitly escaped by \\ as in case of pattern texts in a raw string."
   ]
  },
  {
   "cell_type": "markdown",
   "id": "10ea9eb3",
   "metadata": {},
   "source": [
    "que5- How does compiling a regular-expression object benefit you?"
   ]
  },
  {
   "cell_type": "markdown",
   "id": "0c41712f",
   "metadata": {},
   "source": [
    "ans5- We can combine a regular expression pattern into pattern objects, which can be used for pattern matching. It also helps to search a pattern again without rewriting it."
   ]
  },
  {
   "cell_type": "markdown",
   "id": "ac4e4e8a",
   "metadata": {},
   "source": [
    "que6- What are some examples of how to use the match object returned by re.match and re.search?"
   ]
  },
  {
   "cell_type": "markdown",
   "id": "b6a032f1",
   "metadata": {},
   "source": [
    "ans6- The re.search() and re.match() both are functions of re module in python. These functions are very efficient and fast for searching in strings. The function searches for some substring in a string and returns a match object if found, else it returns none.\n",
    "\n",
    "There is a difference between the use of both functions. Both return the first match of a substring found in the string, but re.match() searches only from the beginning of the string and return match object if found. But if a match of substring is found somewhere in the middle of the string, it returns none."
   ]
  },
  {
   "cell_type": "code",
   "execution_count": 4,
   "id": "c1a7d025",
   "metadata": {},
   "outputs": [
    {
     "name": "stdout",
     "output_type": "stream",
     "text": [
      "<re.Match object; span=(54, 60), match='string'>\n",
      "None\n",
      "<re.Match object; span=(0, 6), match='string'>\n",
      "<re.Match object; span=(0, 6), match='string'>\n"
     ]
    }
   ],
   "source": [
    "import re\n",
    "Substring ='string' \n",
    "String1 ='We are learning regex with ineuron is very useful for string matching. It is fast too.' \n",
    "String2 ='string We are learning regex with ineuron regex is very useful for string matching. It is fast too.'\n",
    "print(re.search(Substring, String1, re.IGNORECASE))\n",
    "print(re.match(Substring, String1, re.IGNORECASE))\n",
    "print(re.search(Substring, String2, re.IGNORECASE))\n",
    "print(re.match(Substring, String2, re.IGNORECASE))"
   ]
  },
  {
   "cell_type": "markdown",
   "id": "a2031f38",
   "metadata": {},
   "source": [
    "que7- What is the difference between using a vertical bar (|) as an alteration and using square brackets as a character set?"
   ]
  },
  {
   "cell_type": "markdown",
   "id": "0e9c3339",
   "metadata": {},
   "source": [
    "ans7- When __|__ us used then patterns searches for __or__ option. i.e `<pattern_1>|<pattern_2>` means it searches as `<pattern_1>or<<pattern_2>` in the searched string. the first occurance of matched string will be returned as the Match Object. Using Character set in square Brackets searches for all the character set in the square bracket and if match is found, it returns it."
   ]
  },
  {
   "cell_type": "markdown",
   "id": "4ac5c62f",
   "metadata": {},
   "source": [
    "que8- In regular-expression search patterns, why is it necessary to use the raw-string indicator (r)? In   replacement strings?"
   ]
  },
  {
   "cell_type": "markdown",
   "id": "54edeb8d",
   "metadata": {},
   "source": [
    "ans8- Raw Strings are used in the regular-expression search patterns, so that blackslashes donot have to be escaped."
   ]
  },
  {
   "cell_type": "code",
   "execution_count": null,
   "id": "c20bc9a2",
   "metadata": {},
   "outputs": [],
   "source": []
  }
 ],
 "metadata": {
  "kernelspec": {
   "display_name": "Python 3 (ipykernel)",
   "language": "python",
   "name": "python3"
  },
  "language_info": {
   "codemirror_mode": {
    "name": "ipython",
    "version": 3
   },
   "file_extension": ".py",
   "mimetype": "text/x-python",
   "name": "python",
   "nbconvert_exporter": "python",
   "pygments_lexer": "ipython3",
   "version": "3.9.7"
  }
 },
 "nbformat": 4,
 "nbformat_minor": 5
}
