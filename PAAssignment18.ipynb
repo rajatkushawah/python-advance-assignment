{
 "cells": [
  {
   "cell_type": "markdown",
   "id": "8de91b8e",
   "metadata": {},
   "source": [
    "que1- Describe the differences between text and binary files in a single paragraph."
   ]
  },
  {
   "cell_type": "markdown",
   "id": "343205ed",
   "metadata": {},
   "source": [
    "ans1- Binary file contains the data in the form of 0 and 1(series of binary values) and text files contains the data in the form of stream of characters.In general binary files are identified as executable files. But binary files are not in readable form as like text file."
   ]
  },
  {
   "cell_type": "markdown",
   "id": "fd13934d",
   "metadata": {},
   "source": [
    "que2- What are some scenarios where using text files will be the better option? When would you like to use binary files instead of text files?"
   ]
  },
  {
   "cell_type": "markdown",
   "id": "d5d9c861",
   "metadata": {},
   "source": [
    "ans2- Text files are less prone to get corrupted as any undesired change may just show up once the file is opened and then can easily be removed. Whereas Use binary files instead of text files for image data."
   ]
  },
  {
   "cell_type": "markdown",
   "id": "0ab20087",
   "metadata": {},
   "source": [
    "que3- What are some of the issues with using binary operations to read and write a Python integer directly to disc?"
   ]
  },
  {
   "cell_type": "markdown",
   "id": "b78c7c29",
   "metadata": {},
   "source": [
    "ans3- When we read or write a python integer using binary operations:\n",
    "\n",
    "1.Binary operations deal with raw data.\n",
    "\n",
    "2.One needs to identify how many bytes one would read or write."
   ]
  },
  {
   "cell_type": "markdown",
   "id": "814fd705",
   "metadata": {},
   "source": [
    "que4- Describe a benefit of using the with keyword instead of explicitly opening a file."
   ]
  },
  {
   "cell_type": "markdown",
   "id": "ca093dca",
   "metadata": {},
   "source": [
    "ans4- When a file is opened using the with keyword, if some exceptions occur after opening a file, or at the end of the file it automatically does the closing of the file. There by not leaving an file in open mode and there would no need to explicitly close a file."
   ]
  },
  {
   "cell_type": "markdown",
   "id": "800e10a1",
   "metadata": {},
   "source": [
    "que5- Does Python have the trailing newline while reading a line of text? Does Python append a newline when you write a line of text?"
   ]
  },
  {
   "cell_type": "markdown",
   "id": "adcbc608",
   "metadata": {},
   "source": [
    "ans5- Yes, Python have the trailing newline while reading a line of text. When we write a newline has to be provided in python excpicitly."
   ]
  },
  {
   "cell_type": "markdown",
   "id": "e13dfd28",
   "metadata": {},
   "source": [
    "que6- What file operations enable for random-access operation?"
   ]
  },
  {
   "cell_type": "markdown",
   "id": "e22ad6e8",
   "metadata": {},
   "source": [
    "ans6- The file operations enable for random-access operation are __seek()__ and __tell()__"
   ]
  },
  {
   "cell_type": "markdown",
   "id": "5152158d",
   "metadata": {},
   "source": [
    "que7- When do you think you'll use the struct package the most?"
   ]
  },
  {
   "cell_type": "markdown",
   "id": "c9b29c3e",
   "metadata": {},
   "source": [
    "ans7- The struct package is mostly used while converting a common python types into C language types."
   ]
  },
  {
   "cell_type": "markdown",
   "id": "ff0cafc5",
   "metadata": {},
   "source": [
    "que8- When is pickling the best option?"
   ]
  },
  {
   "cell_type": "markdown",
   "id": "eeff86d4",
   "metadata": {},
   "source": [
    "ans8- Pickling is best option for creating a new binary file using python."
   ]
  },
  {
   "cell_type": "markdown",
   "id": "5f8543e2",
   "metadata": {},
   "source": [
    "que9- When will it be best to use the shelve package?"
   ]
  },
  {
   "cell_type": "markdown",
   "id": "c2313339",
   "metadata": {},
   "source": [
    "ans9- Shelve package is used to pickle data but treats the entire file as dictionary."
   ]
  },
  {
   "cell_type": "markdown",
   "id": "21563cb4",
   "metadata": {},
   "source": [
    "que10- What is a special restriction when using the shelve package, as opposed to using other data dictionaries?"
   ]
  },
  {
   "cell_type": "markdown",
   "id": "b360f724",
   "metadata": {},
   "source": [
    "ans10- Only string data type can be used as key in this special dictionary object, whereas any picklable Python object can be used as value."
   ]
  }
 ],
 "metadata": {
  "kernelspec": {
   "display_name": "Python 3 (ipykernel)",
   "language": "python",
   "name": "python3"
  },
  "language_info": {
   "codemirror_mode": {
    "name": "ipython",
    "version": 3
   },
   "file_extension": ".py",
   "mimetype": "text/x-python",
   "name": "python",
   "nbconvert_exporter": "python",
   "pygments_lexer": "ipython3",
   "version": "3.9.7"
  }
 },
 "nbformat": 4,
 "nbformat_minor": 5
}
