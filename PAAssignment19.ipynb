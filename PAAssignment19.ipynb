{
 "cells": [
  {
   "cell_type": "markdown",
   "id": "2ad24253",
   "metadata": {},
   "source": [
    "que1- Define the relationship between a class and its instances. Is it a one-to-one or a one-to-many partnership, for example?"
   ]
  },
  {
   "cell_type": "markdown",
   "id": "8d2cc0e7",
   "metadata": {},
   "source": [
    "ans1- Relationship between a class and its instances is a one to many partnership."
   ]
  },
  {
   "cell_type": "markdown",
   "id": "87f81963",
   "metadata": {},
   "source": [
    "que2- What kind of data is held only in an instance?"
   ]
  },
  {
   "cell_type": "markdown",
   "id": "5646c8c0",
   "metadata": {},
   "source": [
    "ans2- Instance objects contains the Instance variables which are specific to that specific Instance object."
   ]
  },
  {
   "cell_type": "markdown",
   "id": "49d83e85",
   "metadata": {},
   "source": [
    "que3- What kind of knowledge is stored in a class?"
   ]
  },
  {
   "cell_type": "markdown",
   "id": "f9df3a07",
   "metadata": {},
   "source": [
    "ans3- Class creates a user-defined data structure, which holds its own data members and member functions, which can be accessed and used by creating an instance of that class. A class is like a blueprint for an object."
   ]
  },
  {
   "cell_type": "markdown",
   "id": "8690ac3b",
   "metadata": {},
   "source": [
    "que4- What exactly is a method, and how is it different from a regular function?"
   ]
  },
  {
   "cell_type": "markdown",
   "id": "97cdc2a6",
   "metadata": {},
   "source": [
    "ans4- The methods with a class can be used to access the insatnce variables of its instance. So,the object's state can be modified by its method. Function can't access the attributes of an instance of a class or can't modify the state of the object."
   ]
  },
  {
   "cell_type": "markdown",
   "id": "264ea736",
   "metadata": {},
   "source": [
    "que5- Is inheritance supported in Python, and if so, what is the syntax?"
   ]
  },
  {
   "cell_type": "markdown",
   "id": "c1c3f025",
   "metadata": {},
   "source": [
    "ans5- Yes,Python supports inheritance. The Types of Inheritence Supported by Python are:\n",
    "\n",
    "- Simple Inheritence\n",
    "- Multiple Inheritence\n",
    "- Multilevel lInheritence\n",
    "- Hybrid Inheritence\n",
    "- Hierracial Inheritence"
   ]
  },
  {
   "cell_type": "code",
   "execution_count": 2,
   "id": "5432b1c9",
   "metadata": {},
   "outputs": [],
   "source": [
    "class Person:\n",
    "    def __init__(self, fname, lname):\n",
    "        self.first_name = fname\n",
    "        self.last_name = lname\n",
    "class Student(Person):\n",
    "    pass"
   ]
  },
  {
   "cell_type": "markdown",
   "id": "0559b613",
   "metadata": {},
   "source": [
    "que6- How much encapsulation (making instance or class variables private) does Python support?"
   ]
  },
  {
   "cell_type": "markdown",
   "id": "82eb8b6c",
   "metadata": {},
   "source": [
    "ans6- Encapsulation describes the idea of wrapping data and the methods that work on data within one unit. This puts restrictions on accessing variables and methods directly and can prevent the accidental modification of data. To prevent accidental change, an objects variable can only be changed by an objects method."
   ]
  },
  {
   "cell_type": "markdown",
   "id": "916794eb",
   "metadata": {},
   "source": [
    "que7- How do you distinguish between a class variable and an instance variable?"
   ]
  },
  {
   "cell_type": "markdown",
   "id": "fce291b1",
   "metadata": {},
   "source": [
    "ans7- __Class varibale__: It usually maintains a single shared value for all instances of class even if no instance object of the class exists.\n",
    "\n",
    "__Instance Variable__: It usually reserves memory for data that the class needs."
   ]
  },
  {
   "cell_type": "markdown",
   "id": "e6dfd51f",
   "metadata": {},
   "source": [
    "que8- When, if ever, can self be included in a class's method definitions?"
   ]
  },
  {
   "cell_type": "markdown",
   "id": "e7f4e08f",
   "metadata": {},
   "source": [
    "ans8- Yes, self can included in class method definations to access the instance variables inside class methods."
   ]
  },
  {
   "cell_type": "markdown",
   "id": "26b82087",
   "metadata": {},
   "source": [
    "que9- What is the difference between the `__add__` and the `__radd__` methods?"
   ]
  },
  {
   "cell_type": "markdown",
   "id": "3edd5ef5",
   "metadata": {},
   "source": [
    "ans9- Entering `__radd__` Python will first try `__add__()`, and if that returns Not Implemented Python will check if the right-hand operand implements `__radd__`, and if it does, it will call `__radd__()` rather than raising a `TypeError`."
   ]
  },
  {
   "cell_type": "markdown",
   "id": "05812e72",
   "metadata": {},
   "source": [
    "que10- When is it necessary to use a reflection method? When do you not need it, even though you support the operation in question?"
   ]
  },
  {
   "cell_type": "markdown",
   "id": "d4e572af",
   "metadata": {},
   "source": [
    "ans10- Reflection method we often encounter the requirement that a method in the executing object, or a variable in the calling object, or a field of the object should be assigned, while the method name or field name can not be determined when encoding the code, and need to be input in the form of passing strings through parameters."
   ]
  },
  {
   "cell_type": "markdown",
   "id": "9d15bced",
   "metadata": {},
   "source": [
    "que11- What is the `__iadd__` method called?"
   ]
  },
  {
   "cell_type": "markdown",
   "id": "0ffab438",
   "metadata": {},
   "source": [
    "ans11- `__iadd__` method is called when we use implementation like a+=b which is `a.__iadd__(b)`."
   ]
  },
  {
   "cell_type": "markdown",
   "id": "35cac297",
   "metadata": {},
   "source": [
    "que12- Is the `__init__` method inherited by subclasses? What do you do if you need to customize its behavior within a subclass?"
   ]
  },
  {
   "cell_type": "markdown",
   "id": "669704ee",
   "metadata": {},
   "source": [
    "Yes, `__init__` method will be inherited by subclasses. if we want to customize its behaviour within a subclass we can use super() method."
   ]
  }
 ],
 "metadata": {
  "kernelspec": {
   "display_name": "Python 3 (ipykernel)",
   "language": "python",
   "name": "python3"
  },
  "language_info": {
   "codemirror_mode": {
    "name": "ipython",
    "version": 3
   },
   "file_extension": ".py",
   "mimetype": "text/x-python",
   "name": "python",
   "nbconvert_exporter": "python",
   "pygments_lexer": "ipython3",
   "version": "3.9.7"
  }
 },
 "nbformat": 4,
 "nbformat_minor": 5
}
