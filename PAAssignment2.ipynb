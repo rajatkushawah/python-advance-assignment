{
 "cells": [
  {
   "cell_type": "markdown",
   "id": "d2b67b7b",
   "metadata": {},
   "source": [
    "que1- What is the relationship between classes and modules?"
   ]
  },
  {
   "cell_type": "markdown",
   "id": "b8617bb1",
   "metadata": {},
   "source": [
    "ans1- A module in python is simply a way to organize the code, and it contains either python classes or just functions. Class holds objects and has methods that interact with objects while module is about methods that can be used across multiple classes."
   ]
  },
  {
   "cell_type": "markdown",
   "id": "27ea35ee",
   "metadata": {},
   "source": [
    "que2- How do you make instances and classes?"
   ]
  },
  {
   "cell_type": "markdown",
   "id": "2b372c76",
   "metadata": {},
   "source": [
    "ans2- Classes can be cretaed with the help of keyword class. To create instances of a class, we can call the class using class name and pass in whatever arguments its init method accepts."
   ]
  },
  {
   "cell_type": "markdown",
   "id": "d5f05e62",
   "metadata": {},
   "source": [
    "que3- Where and how should be class attributes created?"
   ]
  },
  {
   "cell_type": "markdown",
   "id": "5056bc88",
   "metadata": {},
   "source": [
    "ans3- Any variable that is bound in a class is a class attribute."
   ]
  },
  {
   "cell_type": "code",
   "execution_count": 1,
   "id": "c237ca9b",
   "metadata": {},
   "outputs": [],
   "source": [
    "class MyClass:\n",
    "    attr1 = 10        #class attributes\n",
    "    attr2 = \"hello\"\n",
    "\n",
    "    def method1(self):\n",
    "        print( MyClass.attr1)   #reference the class attribute\n",
    "\n",
    "    def method2(self):\n",
    "        print( MyClass.attr2)   #reference the class attribute\n",
    "\n",
    "    def method3(self, text):\n",
    "        self.text = text        #instance attribute\n",
    "        print( text, self.text)   #print my argument and my attribute\n",
    "\n",
    "    method4 = method3   #make an alias for method3"
   ]
  },
  {
   "cell_type": "markdown",
   "id": "2613cafd",
   "metadata": {},
   "source": [
    "que4- Where and how are instance attributes created?"
   ]
  },
  {
   "cell_type": "markdown",
   "id": "11d5ffc7",
   "metadata": {},
   "source": [
    "ans4- Instance attributes are attributes or properties attached to an instance of a class. Instance attributes are defined in the constructor."
   ]
  },
  {
   "cell_type": "markdown",
   "id": "3d80d479",
   "metadata": {},
   "source": [
    "que5- What does the term \"self\" in a Python class mean?"
   ]
  },
  {
   "cell_type": "markdown",
   "id": "85dca41a",
   "metadata": {},
   "source": [
    "ans5- Self represents the instance of the class. By using the \"self\" keyword we can access the attributes and methods of the class in python. It binds the attributes with the given arguments."
   ]
  },
  {
   "cell_type": "markdown",
   "id": "3e2f953a",
   "metadata": {},
   "source": [
    "que6- How does a Python class handle operator overloading?"
   ]
  },
  {
   "cell_type": "markdown",
   "id": "89c33b32",
   "metadata": {},
   "source": [
    "ans6- Python Classes handle operator overloading by using special methods called Magic methods. these special methods usually begin and end with __ (double underscore). like-"
   ]
  },
  {
   "cell_type": "raw",
   "id": "34deeb7d",
   "metadata": {},
   "source": [
    "+ -> __add__()\n",
    "\n",
    "- -> __sub__()\n",
    "\n",
    "* -> __mul__()\n",
    "\n",
    "/ -> __div__()"
   ]
  },
  {
   "cell_type": "markdown",
   "id": "dfdc24e8",
   "metadata": {},
   "source": [
    "que7- When do you consider allowing operator overloading of your classes?"
   ]
  },
  {
   "cell_type": "markdown",
   "id": "4430938e",
   "metadata": {},
   "source": [
    "ans7- When we want to have different meaning for the same operator accroding to the context we use operator overloading."
   ]
  },
  {
   "cell_type": "markdown",
   "id": "484e3543",
   "metadata": {},
   "source": [
    "que8- What is the most popular form of operator overloading?"
   ]
  },
  {
   "cell_type": "markdown",
   "id": "df1815b8",
   "metadata": {},
   "source": [
    "ans8- The most popular form of operator overloading in python is by special methods called Magic methods. Which usually beign and end with double underscore ."
   ]
  },
  {
   "cell_type": "raw",
   "id": "45642762",
   "metadata": {},
   "source": [
    "__<method name>__"
   ]
  },
  {
   "cell_type": "markdown",
   "id": "74d4b9e8",
   "metadata": {},
   "source": [
    "que9- What are the two most important concepts to grasp in order to comprehend Python OOP code?"
   ]
  },
  {
   "cell_type": "markdown",
   "id": "b19667bd",
   "metadata": {},
   "source": [
    "ans9- The two most important concepts to grasp in order to comprehend Python OOP code are polymorphism and inheritence."
   ]
  }
 ],
 "metadata": {
  "kernelspec": {
   "display_name": "Python 3 (ipykernel)",
   "language": "python",
   "name": "python3"
  },
  "language_info": {
   "codemirror_mode": {
    "name": "ipython",
    "version": 3
   },
   "file_extension": ".py",
   "mimetype": "text/x-python",
   "name": "python",
   "nbconvert_exporter": "python",
   "pygments_lexer": "ipython3",
   "version": "3.9.7"
  }
 },
 "nbformat": 4,
 "nbformat_minor": 5
}
