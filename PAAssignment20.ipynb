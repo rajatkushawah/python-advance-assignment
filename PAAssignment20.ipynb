{
 "cells": [
  {
   "cell_type": "markdown",
   "id": "515c2c2e",
   "metadata": {},
   "source": [
    "que1- Compare and contrast the float and Decimal classes' benefits and drawbacks."
   ]
  },
  {
   "cell_type": "markdown",
   "id": "ffccd4f3",
   "metadata": {},
   "source": [
    "ans1- Float stores an approximate value and decimal stores an exact value. In summary, exact values like money should use decimal, and approximate values like scientific measurements should use float. When multiplying a non integer and dividing by that same number, decimals lose precision while floats do not."
   ]
  },
  {
   "cell_type": "markdown",
   "id": "b598daee",
   "metadata": {},
   "source": [
    "que2- Decimal('1.200') and Decimal('1.2') are two objects to consider. In what sense are these the same object? Are these just two ways of representing the exact same value, or do they correspond to different internal states?"
   ]
  },
  {
   "cell_type": "markdown",
   "id": "02b06bc6",
   "metadata": {},
   "source": [
    "ans2- Both values are same but internal representation at storage Is different. Precsion differs, Decimal('1.200') gives internally 1.200 and Decimal('1.2') gives 1.2. The output of both will be same."
   ]
  },
  {
   "cell_type": "code",
   "execution_count": 1,
   "id": "4dcaac4e",
   "metadata": {},
   "outputs": [
    {
     "name": "stdout",
     "output_type": "stream",
     "text": [
      "1.2 1.2\n"
     ]
    }
   ],
   "source": [
    "c = 1.200\n",
    "d = 1.2 \n",
    "print(c,d)"
   ]
  },
  {
   "cell_type": "markdown",
   "id": "f238067a",
   "metadata": {},
   "source": [
    "que3- What happens if the equality of Decimal('1.200') and Decimal('1.2') is checked?"
   ]
  },
  {
   "cell_type": "markdown",
   "id": "b2590300",
   "metadata": {},
   "source": [
    "ans3- Both values are checked to be equal , they only differ in precision."
   ]
  },
  {
   "cell_type": "markdown",
   "id": "70b20390",
   "metadata": {},
   "source": [
    "que4- Why is it preferable to start a Decimal object with a string rather than a floating-point value?"
   ]
  },
  {
   "cell_type": "markdown",
   "id": "fe7a4da2",
   "metadata": {},
   "source": [
    "ans4- Floating-point value is converted to Decimal format. Decimal can store float value with absolute precision. But when float value is given as Decimal object,it first has to be converted from floating point value which might already have rounding error.\n",
    "\n",
    "Hence it is preferable to start a Decimal object with a string."
   ]
  },
  {
   "cell_type": "markdown",
   "id": "4f261d36",
   "metadata": {},
   "source": [
    "que5- In an arithmetic phrase, how simple is it to combine Decimal objects with integers?"
   ]
  },
  {
   "cell_type": "markdown",
   "id": "1d08bf6f",
   "metadata": {},
   "source": [
    "ans5- "
   ]
  },
  {
   "cell_type": "code",
   "execution_count": 2,
   "id": "3a98f46c",
   "metadata": {},
   "outputs": [
    {
     "data": {
      "text/plain": [
       "8.6"
      ]
     },
     "execution_count": 2,
     "metadata": {},
     "output_type": "execute_result"
    }
   ],
   "source": [
    "2.6 + 6"
   ]
  },
  {
   "cell_type": "markdown",
   "id": "434cc049",
   "metadata": {},
   "source": [
    "que6- Can Decimal objects and floating-point values be combined easily?"
   ]
  },
  {
   "cell_type": "markdown",
   "id": "06190e56",
   "metadata": {},
   "source": [
    "ans6- Arithmetic operations like Adding,subtracting or multiplying a Decimal object by a floating-point value is generates an error.\n",
    "\n",
    "To do these operations, the floating point has to be converted to a Decimal."
   ]
  },
  {
   "cell_type": "markdown",
   "id": "f34e6ba4",
   "metadata": {},
   "source": [
    "que7- Using the Fraction class but not the Decimal class, give an example of a quantity that can be expressed with absolute precision."
   ]
  },
  {
   "cell_type": "markdown",
   "id": "13d012e6",
   "metadata": {},
   "source": [
    "ans7- "
   ]
  },
  {
   "cell_type": "code",
   "execution_count": 3,
   "id": "51351d0c",
   "metadata": {},
   "outputs": [
    {
     "name": "stdout",
     "output_type": "stream",
     "text": [
      "11/35\n",
      "5/9\n",
      "0\n"
     ]
    }
   ],
   "source": [
    "from fractions import Fraction\n",
    "\n",
    "print (Fraction(11, 35))\n",
    "# returns Fraction(11, 35)\n",
    "print (Fraction(10, 18))\n",
    "# returns Fraction(5, 9)\n",
    "print (Fraction())\n",
    "# returns Fraction(0, 1)"
   ]
  },
  {
   "cell_type": "code",
   "execution_count": 4,
   "id": "565ccbc8",
   "metadata": {},
   "outputs": [
    {
     "name": "stdout",
     "output_type": "stream",
     "text": [
      "157079632679489661923/50000000000000000000\n",
      "355/113\n",
      "311/99\n",
      "22/7\n",
      "5\n",
      "2\n"
     ]
    }
   ],
   "source": [
    "from fractions import Fraction\n",
    "print (Fraction('3.14159265358979323846'))\n",
    "print (Fraction('3.14159265358979323846').limit_denominator(10000))\n",
    "print (Fraction('3.14159265358979323846').limit_denominator(100))\n",
    "print (Fraction('3.14159265358979323846').limit_denominator(10))\n",
    "print (Fraction(125, 50).numerator)\n",
    "print (Fraction(125, 50).denominator)"
   ]
  },
  {
   "cell_type": "markdown",
   "id": "152b32c1",
   "metadata": {},
   "source": [
    "que8- Describe a quantity that can be accurately expressed by the Decimal or Fraction classes but not by a floating-point value."
   ]
  },
  {
   "cell_type": "markdown",
   "id": "3c86750c",
   "metadata": {},
   "source": [
    "ans8- 0.00011 is a finite representation of an infinite number of digits. That doesn't help us with floating-point. Floating-point does not represent numbers using repeat bars; it represents them with a fixed number of bits it can be represented by decimal or fraction class."
   ]
  },
  {
   "cell_type": "markdown",
   "id": "ffbd83cb",
   "metadata": {},
   "source": [
    "que9- Consider the following two fraction objects: Fraction(1, 2) and Fraction(1, 2). (5, 10). Is the internal state of these two objects the same? Why do you think that is?"
   ]
  },
  {
   "cell_type": "markdown",
   "id": "4ae09c2d",
   "metadata": {},
   "source": [
    "ans9- Both will be reduced to 1/2."
   ]
  },
  {
   "cell_type": "markdown",
   "id": "1770247e",
   "metadata": {},
   "source": [
    "que10- How do the Fraction class and the integer type (int) relate to each other? Containment or inheritance?"
   ]
  },
  {
   "cell_type": "markdown",
   "id": "f2cc75bc",
   "metadata": {},
   "source": [
    "ans10- Fraction class and integer type(int) are related in form of a container.It contains two ints, one the numerator and the other the denominator."
   ]
  }
 ],
 "metadata": {
  "kernelspec": {
   "display_name": "Python 3 (ipykernel)",
   "language": "python",
   "name": "python3"
  },
  "language_info": {
   "codemirror_mode": {
    "name": "ipython",
    "version": 3
   },
   "file_extension": ".py",
   "mimetype": "text/x-python",
   "name": "python",
   "nbconvert_exporter": "python",
   "pygments_lexer": "ipython3",
   "version": "3.9.7"
  }
 },
 "nbformat": 4,
 "nbformat_minor": 5
}
