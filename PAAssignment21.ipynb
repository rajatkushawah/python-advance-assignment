{
 "cells": [
  {
   "cell_type": "markdown",
   "id": "fab27ae2",
   "metadata": {},
   "source": [
    "que1- What is a probability distribution, exactly? If the values are meant to be random, how can you predict them at all?"
   ]
  },
  {
   "cell_type": "markdown",
   "id": "dccde488",
   "metadata": {},
   "source": [
    "ans1- A probability distribution describes how a random variable is distributed.\n",
    "\n",
    "It tells us which values a random variable is most likely to take on and which values are less likely. Based on the previous data and the occurences of the random event, we can predict the outcome in terms of probabilities."
   ]
  },
  {
   "cell_type": "markdown",
   "id": "2374affe",
   "metadata": {},
   "source": [
    "que2- Is there a distinction between true random numbers and pseudo-random numbers, if there is one? Why are the latter considered “good enough”?"
   ]
  },
  {
   "cell_type": "markdown",
   "id": "2db033d9",
   "metadata": {},
   "source": [
    "ans2- True Random Numbers are true physical values while pseudo-random numbers are generated internally by a program . Latter is considered good enough as they have sort of uniform distribution."
   ]
  },
  {
   "cell_type": "markdown",
   "id": "1d752ab9",
   "metadata": {},
   "source": [
    "que3- What are the two main factors that influence the behaviour of a \"normal\" probability distribution?"
   ]
  },
  {
   "cell_type": "markdown",
   "id": "d9de5f2a",
   "metadata": {},
   "source": [
    "ans3- Normal Probability Distribution are influenced by two factors __mean__ and the __variance__."
   ]
  },
  {
   "cell_type": "markdown",
   "id": "fd4d168e",
   "metadata": {},
   "source": [
    "que4- Provide a real-life example of a normal distribution."
   ]
  },
  {
   "cell_type": "markdown",
   "id": "09ec6f84",
   "metadata": {},
   "source": [
    "ans4- A Real-life example of a normal distribution are heights or blood pressure measurements."
   ]
  },
  {
   "cell_type": "markdown",
   "id": "a803c08f",
   "metadata": {},
   "source": [
    "que5- In the short term, how can you expect a probability distribution to behave? What do you think will happen as the number of trials grows?"
   ]
  },
  {
   "cell_type": "markdown",
   "id": "cda182ce",
   "metadata": {},
   "source": [
    "ans5- Depends on the data for the distribution. it initially wil be rising and after a certain threshold achieving it, it will go down."
   ]
  },
  {
   "cell_type": "markdown",
   "id": "fc906059",
   "metadata": {},
   "source": [
    "que6- What kind of object can be shuffled by using random.shuffle?\n",
    "\n"
   ]
  },
  {
   "cell_type": "markdown",
   "id": "d98fb1c9",
   "metadata": {},
   "source": [
    "ans6- lists (list), strings (str) and tuples (tuple) objects can be shuffled by using random.shuffle."
   ]
  },
  {
   "cell_type": "markdown",
   "id": "904dc804",
   "metadata": {},
   "source": [
    "que7- Describe the math package's general categories of functions."
   ]
  },
  {
   "cell_type": "markdown",
   "id": "5de42e49",
   "metadata": {},
   "source": [
    "ans7- The Math package's general categories of functions are:\n",
    "\n",
    "- Trigonometric functions\n",
    "- Quadratic functions\n",
    "- Exponential functions\n",
    "- Hyperbolic functions\n",
    "- Periodic functions\n",
    "- Arithmetic functions\n",
    "- Logarithimic functions\n",
    "- Conversions to Integer"
   ]
  },
  {
   "cell_type": "markdown",
   "id": "5fc32eb4",
   "metadata": {},
   "source": [
    "que8- What is the relationship between exponentiation and logarithms?"
   ]
  },
  {
   "cell_type": "markdown",
   "id": "beb5d584",
   "metadata": {},
   "source": [
    "ans8- Exponentiation and logarithms are inverse of each other."
   ]
  },
  {
   "cell_type": "markdown",
   "id": "581a0872",
   "metadata": {},
   "source": [
    "que9- What are the three logarithmic functions that Python supports?"
   ]
  },
  {
   "cell_type": "markdown",
   "id": "e9a4388c",
   "metadata": {},
   "source": [
    "ans9- he Three Logarithmic Functions that Python supports are:\n",
    "\n",
    "- `log2(x)` - logarithmic value of x to base 2\n",
    "- `log10(x)` - logarithmic value of x to base 10\n",
    "- `log1p(a)` - This function is used to compute logarithm(1+a) ."
   ]
  }
 ],
 "metadata": {
  "kernelspec": {
   "display_name": "Python 3 (ipykernel)",
   "language": "python",
   "name": "python3"
  },
  "language_info": {
   "codemirror_mode": {
    "name": "ipython",
    "version": 3
   },
   "file_extension": ".py",
   "mimetype": "text/x-python",
   "name": "python",
   "nbconvert_exporter": "python",
   "pygments_lexer": "ipython3",
   "version": "3.9.7"
  }
 },
 "nbformat": 4,
 "nbformat_minor": 5
}
