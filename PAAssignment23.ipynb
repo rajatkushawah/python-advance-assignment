{
 "cells": [
  {
   "cell_type": "markdown",
   "id": "8da3be07",
   "metadata": {},
   "source": [
    "que1- If you have any, what are your choices for increasing the comparison between different figures on the same graph?"
   ]
  },
  {
   "cell_type": "markdown",
   "id": "4f9c1cc5",
   "metadata": {},
   "source": [
    "ans1- Matplotlib provides a convenient method called subplots for increasing the comparison between different figures on the same graph. Subplots mean a group of smaller axes (where each axis is a plot) that can exist together within a single figure."
   ]
  },
  {
   "cell_type": "markdown",
   "id": "c25aeedb",
   "metadata": {},
   "source": [
    "que2- Can you explain the benefit of compound interest over a higher rate of interest that does not compound after reading this chapter?"
   ]
  },
  {
   "cell_type": "markdown",
   "id": "924868f9",
   "metadata": {},
   "source": [
    "ans2- Compound interest makes a sum of money grow at a faster rate than simple interest,because in addition to earning returns on the money you invest, you also earn returns on those returns at the end of every compounding period, which could be daily, monthly, quarterly or annually."
   ]
  },
  {
   "cell_type": "markdown",
   "id": "d3c38a77",
   "metadata": {},
   "source": [
    "que3- What is a histogram, exactly? Name a numpy method for creating such a graph."
   ]
  },
  {
   "cell_type": "markdown",
   "id": "ebed2689",
   "metadata": {},
   "source": [
    "ans3- Histogram shows total values of X with respect to Y. Which means at any particular position of X, Y value shows the total number of counts or data below that value of X. `numpy.histogram()` is the built in function used."
   ]
  },
  {
   "cell_type": "markdown",
   "id": "31bc82de",
   "metadata": {},
   "source": [
    "que4- If necessary, how do you change the aspect ratios between the X and Y axes?"
   ]
  },
  {
   "cell_type": "markdown",
   "id": "06682df3",
   "metadata": {},
   "source": [
    "ans4- We can use __figure(figsize=(10,8))__ function inside the __matplot.pyplot__ library which we scale down or up the graph."
   ]
  },
  {
   "cell_type": "markdown",
   "id": "32d35328",
   "metadata": {},
   "source": [
    "que5- Compare and contrast the three types of array multiplication between two numpy arrays: dot product, outer product, and regular multiplication of two numpy arrays."
   ]
  },
  {
   "cell_type": "markdown",
   "id": "37815a59",
   "metadata": {},
   "source": [
    "ans5- "
   ]
  },
  {
   "cell_type": "code",
   "execution_count": 5,
   "id": "68146813",
   "metadata": {},
   "outputs": [
    {
     "name": "stdout",
     "output_type": "stream",
     "text": [
      "vector multiplication\n",
      "[[3 6]\n",
      " [3 6]]\n",
      "outer multiplication\n",
      "[[1 2 1 2]\n",
      " [2 4 2 4]\n",
      " [1 2 1 2]\n",
      " [2 4 2 4]]\n",
      "\n",
      "Elementwise multiplication of two vector\n",
      "[[1 4]\n",
      " [1 4]]\n"
     ]
    }
   ],
   "source": [
    "import numpy as np\n",
    "v1 = np.array([[1, 2], [1, 2]])\n",
    "v2 = np.array([[1, 2], [1, 2]])\n",
    "\n",
    "print(\"vector multiplication\")\n",
    "print(np.dot(v1, v2))\n",
    "print(\"outer multiplication\")\n",
    "print(np.outer(v1, v2))\n",
    "print(\"\\nElementwise multiplication of two vector\")\n",
    "print(v1 * v2)"
   ]
  },
  {
   "cell_type": "markdown",
   "id": "1604d27d",
   "metadata": {},
   "source": [
    "que6- Before you buy a home, which numpy function will you use to measure your monthly mortgage payment?"
   ]
  },
  {
   "cell_type": "markdown",
   "id": "5f93e9cf",
   "metadata": {},
   "source": [
    "ans6- `np.pmt(rate, nper, pv)` function we will be using in order to calculate monthly mortgage payment before you purchase a house.\n",
    "\n",
    "rate = The periodic interest rate\n",
    "\n",
    "nper = The number of payment periods\n",
    "\n",
    "pv = The total value of the mortgage loan"
   ]
  },
  {
   "cell_type": "markdown",
   "id": "120a0822",
   "metadata": {},
   "source": [
    "que7- Can string data be stored in numpy arrays? If so, list at least one restriction that applies to this data."
   ]
  },
  {
   "cell_type": "markdown",
   "id": "11248a0a",
   "metadata": {},
   "source": [
    "ans7- Yes, an array can store the string. The limitation which imposed on the string data is, whenever we store the data of string dtype then it should should keep in mind that the string which is having the maximum length is the limit."
   ]
  }
 ],
 "metadata": {
  "kernelspec": {
   "display_name": "Python 3 (ipykernel)",
   "language": "python",
   "name": "python3"
  },
  "language_info": {
   "codemirror_mode": {
    "name": "ipython",
    "version": 3
   },
   "file_extension": ".py",
   "mimetype": "text/x-python",
   "name": "python",
   "nbconvert_exporter": "python",
   "pygments_lexer": "ipython3",
   "version": "3.9.7"
  }
 },
 "nbformat": 4,
 "nbformat_minor": 5
}
