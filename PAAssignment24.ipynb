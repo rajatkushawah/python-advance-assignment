{
 "cells": [
  {
   "cell_type": "markdown",
   "id": "c6cdae21",
   "metadata": {},
   "source": [
    "que1- Is it permissible to use several import statements to import the same module? What would the goal be? Can you think of a situation where it would be beneficial?"
   ]
  },
  {
   "cell_type": "markdown",
   "id": "707826bc",
   "metadata": {},
   "source": [
    "ans1- Yes, it is permissible to use several import statements to import the same module. It is used in case when we have to import multiple functions from same module."
   ]
  },
  {
   "cell_type": "markdown",
   "id": "afbe6fe4",
   "metadata": {},
   "source": [
    "que2- What are some of a module's characteristics? (Name at least one.)"
   ]
  },
  {
   "cell_type": "markdown",
   "id": "6d3e2fda",
   "metadata": {},
   "source": [
    "ans2- Characteristics of Modules:\n",
    "\n",
    "- Modules contain instructions, processing logic, and data.\n",
    "- Modules can be separately compiled and stored in a library.\n",
    "- Modules can be included in a program.\n",
    "- Module segments can be used by invoking a name and some parameters.\n",
    "- Module segments can be used by other modules."
   ]
  },
  {
   "cell_type": "markdown",
   "id": "c085938b",
   "metadata": {},
   "source": [
    "que3- Circular importing, such as when two modules import each other, can lead to dependencies and bugs that aren't visible. How can you go about creating a program that avoids mutual importing?"
   ]
  },
  {
   "cell_type": "markdown",
   "id": "d12d71b2",
   "metadata": {},
   "source": [
    "ans3- Circular importing means importing the two modules in each other. If suppose we are wokring in `MOD1.py` file and it is importing some function say F2() from some other module say `MOD2.PY` file or we can do vice-versa. What will happen is: This will give an `import error`.\n",
    "\n",
    "This is because when we import F2() function from module `MOD2.py`, then this will execute `MOD2.py` file. And in `MOD2.py` file there is an another statement of importing `MOD1.py` module.\n",
    "\n",
    "This will result in endless loop. To avoid this error just do one thingWe can use if `__name__ == '__main__'`\n",
    "\n",
    "In the function, you can't directly refer to the function in the program. The addition of this sentence avoids the endless loop of the program ."
   ]
  },
  {
   "cell_type": "markdown",
   "id": "e76f43e8",
   "metadata": {},
   "source": [
    "que4- Why is  `__all__` in Python?"
   ]
  },
  {
   "cell_type": "markdown",
   "id": "dc8fc45c",
   "metadata": {},
   "source": [
    "ans4- It provides list of all modules present in a library."
   ]
  },
  {
   "cell_type": "markdown",
   "id": "6d89660b",
   "metadata": {},
   "source": [
    "que5- In what situation is it useful to refer to the `__name__` attribute or the string `'__main__'`?"
   ]
  },
  {
   "cell_type": "markdown",
   "id": "b5b64693",
   "metadata": {},
   "source": [
    "ans5- During the time of execution of the code if we want to refer the module in which we are working on then we uses name attribute. In that case it will return the module in which we are working on. Suppose if that moudle is being imported from some other module then name will have the name of that moudle from where the current module has been imported. The current module in which we are working is refer to the string `__main __`."
   ]
  },
  {
   "cell_type": "markdown",
   "id": "7a24fd45",
   "metadata": {},
   "source": [
    "que6- What are some of the benefits of attaching a program counter to the RPN interpreter application, which interprets an RPN script line by line?"
   ]
  },
  {
   "cell_type": "markdown",
   "id": "839519a7",
   "metadata": {},
   "source": [
    "ans6- An advantage of reverse Polish notation is that it removes the need for parentheses that are required by infix notation. While 3 − 4 × 5 can also be written 3 − (4 × 5), that means something quite different from (3 − 4) × 5. A program counter is also known as an instruction counter, instruction pointer, instruction address register or sequence control register. It is a digital counter needed for faster execution of tasks as well as for tracking the current execution point."
   ]
  }
 ],
 "metadata": {
  "kernelspec": {
   "display_name": "Python 3 (ipykernel)",
   "language": "python",
   "name": "python3"
  },
  "language_info": {
   "codemirror_mode": {
    "name": "ipython",
    "version": 3
   },
   "file_extension": ".py",
   "mimetype": "text/x-python",
   "name": "python",
   "nbconvert_exporter": "python",
   "pygments_lexer": "ipython3",
   "version": "3.9.7"
  }
 },
 "nbformat": 4,
 "nbformat_minor": 5
}
