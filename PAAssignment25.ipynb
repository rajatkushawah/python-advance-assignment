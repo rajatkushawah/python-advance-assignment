{
 "cells": [
  {
   "cell_type": "markdown",
   "id": "b1a7fdfb",
   "metadata": {},
   "source": [
    "que1- What is the distinction between a numpy array and a pandas data frame? Is there a way to convert between the two if there is?"
   ]
  },
  {
   "cell_type": "markdown",
   "id": "0419e561",
   "metadata": {},
   "source": [
    "ans1- Numpy Ndarray provides a lot of convenient and optimized methods for performing several mathematical operations on vectors.\n",
    "\n",
    "Pandas Dataframe is an in-memory 2-dimensional tabular representation of data. In simpler words, it can be seen as a spreadsheet having rows and columns.\n",
    "\n",
    "Conversion : `Dataframe=pandas.DataFrame(array)`"
   ]
  },
  {
   "cell_type": "markdown",
   "id": "53bb2503",
   "metadata": {},
   "source": [
    "que2- What can go wrong when an user enters in a stock-ticker symbol, and how do you handle it?"
   ]
  },
  {
   "cell_type": "markdown",
   "id": "9225b0c5",
   "metadata": {},
   "source": [
    "ans2- Ticker symbols aren't static and can change in the event of a merger, name change, or delisting. we can implement a try except else and finally block to deal with it."
   ]
  },
  {
   "cell_type": "markdown",
   "id": "b6bc077d",
   "metadata": {},
   "source": [
    "que3- Identify some of the plotting techniques that are used to produce a stock-market chart."
   ]
  },
  {
   "cell_type": "markdown",
   "id": "f52dba30",
   "metadata": {},
   "source": [
    "ans3- The main chart types used by most traders are the Line Chart, Bar Chart, Renko Chart, and Point and Figure charts. Using matplotlib we can make charts."
   ]
  },
  {
   "cell_type": "markdown",
   "id": "c8f00f21",
   "metadata": {},
   "source": [
    "que4- Why is it essential to print a legend on a stock market chart?"
   ]
  },
  {
   "cell_type": "markdown",
   "id": "a6bbfb61",
   "metadata": {},
   "source": [
    "ans4- legend helps end user to identify the growth of a particular stock by seeing a chart. its crucial in data analytics."
   ]
  },
  {
   "cell_type": "markdown",
   "id": "06f4c13f",
   "metadata": {},
   "source": [
    "que5- What is the best way to limit the length of a pandas data frame to less than a year?"
   ]
  },
  {
   "cell_type": "markdown",
   "id": "0c923498",
   "metadata": {},
   "source": [
    "ans5- We can use start and end parameters for that. In start we write the date from where we are starting and at the end we write the end date. SO within this span we can restric the duration.Also we can use the parameters like periods for how much times we need the duration and we can also use the frequency parameter."
   ]
  },
  {
   "cell_type": "markdown",
   "id": "78a61798",
   "metadata": {},
   "source": [
    "que6- What is the definition of a 180-day moving average?"
   ]
  },
  {
   "cell_type": "markdown",
   "id": "ea4b1bac",
   "metadata": {},
   "source": [
    "ans6- The 180-day moving average is represented as a line on charts and represents the average price over the past 180 days. The moving average can give traders a sense regarding whether the trend is up or down, while also identifying potential support or resistance areas."
   ]
  }
 ],
 "metadata": {
  "kernelspec": {
   "display_name": "Python 3 (ipykernel)",
   "language": "python",
   "name": "python3"
  },
  "language_info": {
   "codemirror_mode": {
    "name": "ipython",
    "version": 3
   },
   "file_extension": ".py",
   "mimetype": "text/x-python",
   "name": "python",
   "nbconvert_exporter": "python",
   "pygments_lexer": "ipython3",
   "version": "3.9.7"
  }
 },
 "nbformat": 4,
 "nbformat_minor": 5
}
