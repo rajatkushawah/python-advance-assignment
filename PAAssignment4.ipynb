{
 "cells": [
  {
   "cell_type": "markdown",
   "id": "41867e8e",
   "metadata": {},
   "source": [
    "que1- Which two operator overloading methods can you use in your classes to support iteration?"
   ]
  },
  {
   "cell_type": "markdown",
   "id": "46e69ef1",
   "metadata": {},
   "source": [
    "ans1- __ iter__ and __ next__ are the operator overloading methods in python that support iteration and are collectively called iterator protocol.\n",
    "\n",
    "__ iter__ returns the iterator object and is called at the start of loop in our respective class.\n",
    "\n",
    "__ next__ is called at each loop increment, it returns the incremented value. Also Stopiteration is raised when there is no value to return."
   ]
  },
  {
   "cell_type": "markdown",
   "id": "3169eb69",
   "metadata": {},
   "source": [
    "que2- In what contexts do the two operator overloading methods manage printing?"
   ]
  },
  {
   "cell_type": "markdown",
   "id": "0caef749",
   "metadata": {},
   "source": [
    "ans2- __ str__ and __ repr__ are two operator overloading methods that manage printing."
   ]
  },
  {
   "cell_type": "markdown",
   "id": "a5bfde4a",
   "metadata": {},
   "source": [
    "que3- In a class, how do you intercept slice operations?"
   ]
  },
  {
   "cell_type": "markdown",
   "id": "1d516709",
   "metadata": {},
   "source": [
    "ans3- In a class use of slice() in __ getitem__ method is used for intercept slice operation. This slice method is provided with start integer number, stop integer number and step integer number.\n",
    "\n",
    "Example: __ getitem__(slice(start,stop,step))"
   ]
  },
  {
   "cell_type": "markdown",
   "id": "152b7d69",
   "metadata": {},
   "source": [
    "que4- In a class, how do you capture in-place addition?"
   ]
  },
  {
   "cell_type": "markdown",
   "id": "a65a4224",
   "metadata": {},
   "source": [
    "ans4- a+b is normal addition. Whereas a+=b is inplace addition operation. In this in-place addition a itself will store the value of addition. In a class __ iadd__ method is used for this in-place operation"
   ]
  },
  {
   "cell_type": "code",
   "execution_count": 1,
   "id": "aa39cca4",
   "metadata": {},
   "outputs": [
    {
     "name": "stdout",
     "output_type": "stream",
     "text": [
      "300\n"
     ]
    }
   ],
   "source": [
    "class Book:\n",
    "    def __init__(self,pages):\n",
    "        self.pages = pages\n",
    "    def __iadd__(self,other):\n",
    "        self.pages += other.pages\n",
    "        return self.pages\n",
    "        \n",
    "b1 = Book(100)\n",
    "b2 = Book(200)\n",
    "b1+=b2\n",
    "print(b1)"
   ]
  },
  {
   "cell_type": "markdown",
   "id": "ed7842e6",
   "metadata": {},
   "source": [
    "que5- When is it appropriate to use operator overloading?"
   ]
  },
  {
   "cell_type": "markdown",
   "id": "3510c8bb",
   "metadata": {},
   "source": [
    "ans5- Operator overloading is used when we want to use an operator other than its normal operation to have different meaning according to the context required in user defined function."
   ]
  },
  {
   "cell_type": "code",
   "execution_count": 2,
   "id": "1cd8591e",
   "metadata": {},
   "outputs": [
    {
     "name": "stdout",
     "output_type": "stream",
     "text": [
      "Total Number of Pages -> 300\n"
     ]
    }
   ],
   "source": [
    "class Book:\n",
    "    def __init__(self,pages):\n",
    "        self.pages = pages\n",
    "    def __add__(self,other):\n",
    "        return self.pages+other.pages\n",
    "b1 = Book(100)\n",
    "b2 = Book(200)\n",
    "print(f'Total Number of Pages -> {b1+b2}')"
   ]
  }
 ],
 "metadata": {
  "kernelspec": {
   "display_name": "Python 3 (ipykernel)",
   "language": "python",
   "name": "python3"
  },
  "language_info": {
   "codemirror_mode": {
    "name": "ipython",
    "version": 3
   },
   "file_extension": ".py",
   "mimetype": "text/x-python",
   "name": "python",
   "nbconvert_exporter": "python",
   "pygments_lexer": "ipython3",
   "version": "3.9.7"
  }
 },
 "nbformat": 4,
 "nbformat_minor": 5
}
