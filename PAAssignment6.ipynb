{
 "cells": [
  {
   "cell_type": "markdown",
   "id": "60837faf",
   "metadata": {},
   "source": [
    "que1- Describe three applications for exception processing."
   ]
  },
  {
   "cell_type": "markdown",
   "id": "04cbdd9d",
   "metadata": {},
   "source": [
    "ans1- Exception Processing is important to find exceptions that causes the runtime error. As runtime errors Halt the program execution when exception occurs.\n",
    "\n",
    "Exception Processing is used in Various Applications of which few examples are:\n",
    "\n",
    "1.Checking Appropriate use of input in an application\n",
    "\n",
    "2.Checking for Arithmetic exceptions in mathematical executions\n",
    "\n",
    "3.Checking File I/O exceptions during File handling"
   ]
  },
  {
   "cell_type": "markdown",
   "id": "e7b714a1",
   "metadata": {},
   "source": [
    "que2- What happens if you don't do something extra to treat an exception?"
   ]
  },
  {
   "cell_type": "markdown",
   "id": "55666cee",
   "metadata": {},
   "source": [
    "ans2- When an exception occurred, if you don't handle it, the program terminates abruptly and the code past the line that caused the exception will not get executed. Because of not handling exceptions while deployment of end products users can face issues at their end while using the product."
   ]
  },
  {
   "cell_type": "markdown",
   "id": "a8a9311d",
   "metadata": {},
   "source": [
    "que3- What are your options for recovering from an exception in your script?"
   ]
  },
  {
   "cell_type": "markdown",
   "id": "f0f15d9f",
   "metadata": {},
   "source": [
    "ans3- Python provides __try__ and __except__ statements for recovering from an exception in your script."
   ]
  },
  {
   "cell_type": "markdown",
   "id": "26a875c6",
   "metadata": {},
   "source": [
    "que4- Describe two methods for triggering exceptions in your script."
   ]
  },
  {
   "cell_type": "markdown",
   "id": "462a09ea",
   "metadata": {},
   "source": [
    "ans4- __raise__ and __assert__ are two methods that can be used to trigger manual exceptions in your script.\n",
    "\n",
    "__raise__ method triggers an exception if condition provided to it turns out to be True.\n",
    "\n",
    "__assert__ will let the program to continue execution if condition provided to it turns out to be True else exception will be raised"
   ]
  },
  {
   "cell_type": "code",
   "execution_count": 4,
   "id": "304132b2",
   "metadata": {},
   "outputs": [
    {
     "ename": "Exception",
     "evalue": "X Value Should not less than 5 The Provided Value of X is 4",
     "output_type": "error",
     "traceback": [
      "\u001b[1;31m---------------------------------------------------------------------------\u001b[0m",
      "\u001b[1;31mException\u001b[0m                                 Traceback (most recent call last)",
      "\u001b[1;32m~\\AppData\\Local\\Temp/ipykernel_5976/2042697337.py\u001b[0m in \u001b[0;36m<module>\u001b[1;34m\u001b[0m\n\u001b[0;32m      1\u001b[0m \u001b[0mx\u001b[0m \u001b[1;33m=\u001b[0m \u001b[1;36m4\u001b[0m\u001b[1;33m\u001b[0m\u001b[1;33m\u001b[0m\u001b[0m\n\u001b[1;32m----> 2\u001b[1;33m \u001b[1;32mraise\u001b[0m \u001b[0mException\u001b[0m\u001b[1;33m(\u001b[0m\u001b[1;34mf'X Value Should not less than 5 The Provided Value of X is {x}'\u001b[0m\u001b[1;33m)\u001b[0m\u001b[1;33m\u001b[0m\u001b[1;33m\u001b[0m\u001b[0m\n\u001b[0m",
      "\u001b[1;31mException\u001b[0m: X Value Should not less than 5 The Provided Value of X is 4"
     ]
    }
   ],
   "source": [
    "x = 4\n",
    "raise Exception(f'X Value Should not less than 5 The Provided Value of X is {x}')"
   ]
  },
  {
   "cell_type": "code",
   "execution_count": 5,
   "id": "05c466a6",
   "metadata": {},
   "outputs": [
    {
     "ename": "AssertionError",
     "evalue": "5 is not equal to 4",
     "output_type": "error",
     "traceback": [
      "\u001b[1;31m---------------------------------------------------------------------------\u001b[0m",
      "\u001b[1;31mAssertionError\u001b[0m                            Traceback (most recent call last)",
      "\u001b[1;32m~\\AppData\\Local\\Temp/ipykernel_5976/2039004643.py\u001b[0m in \u001b[0;36m<module>\u001b[1;34m\u001b[0m\n\u001b[1;32m----> 1\u001b[1;33m \u001b[1;32massert\u001b[0m\u001b[1;33m(\u001b[0m\u001b[1;36m5\u001b[0m\u001b[1;33m==\u001b[0m\u001b[1;36m4\u001b[0m\u001b[1;33m)\u001b[0m\u001b[1;33m,\u001b[0m \u001b[1;34m\"5 is not equal to 4\"\u001b[0m\u001b[1;33m\u001b[0m\u001b[1;33m\u001b[0m\u001b[0m\n\u001b[0m",
      "\u001b[1;31mAssertionError\u001b[0m: 5 is not equal to 4"
     ]
    }
   ],
   "source": [
    "assert(5==4), \"5 is not equal to 4\""
   ]
  },
  {
   "cell_type": "markdown",
   "id": "7bd37724",
   "metadata": {},
   "source": [
    "que5- Identify two methods for specifying actions to be executed at termination time, regardless of whether or not an exception exists."
   ]
  },
  {
   "cell_type": "markdown",
   "id": "1ca0999b",
   "metadata": {},
   "source": [
    "ans5- Python Provides __else__ and __finally__ blocks for specifying actions to be executed at termination time, regardless of whether an exceptions exists or not."
   ]
  }
 ],
 "metadata": {
  "kernelspec": {
   "display_name": "Python 3 (ipykernel)",
   "language": "python",
   "name": "python3"
  },
  "language_info": {
   "codemirror_mode": {
    "name": "ipython",
    "version": 3
   },
   "file_extension": ".py",
   "mimetype": "text/x-python",
   "name": "python",
   "nbconvert_exporter": "python",
   "pygments_lexer": "ipython3",
   "version": "3.9.7"
  }
 },
 "nbformat": 4,
 "nbformat_minor": 5
}
