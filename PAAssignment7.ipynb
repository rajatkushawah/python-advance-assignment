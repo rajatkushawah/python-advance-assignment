{
 "cells": [
  {
   "cell_type": "markdown",
   "id": "23487eb5",
   "metadata": {},
   "source": [
    "que1- What is the purpose of the try statement?"
   ]
  },
  {
   "cell_type": "markdown",
   "id": "3f0fcb30",
   "metadata": {},
   "source": [
    "ans1- try statement is used for exception handling in python. it consists of a block of risky statements which might cause an exception during runtime. if code within try block raises exception, then the exception will be reverted to the corresponding except block if multiple except blocks are present, else it willbe reverted to the default except block. In short try and except in union avoid programs from crashing during runtime due to exceptions."
   ]
  },
  {
   "cell_type": "code",
   "execution_count": 2,
   "id": "e54b383c",
   "metadata": {},
   "outputs": [
    {
     "name": "stdout",
     "output_type": "stream",
     "text": [
      "Division by Zero is Not Possible\n"
     ]
    }
   ],
   "source": [
    "try:\n",
    "    print(10/0)\n",
    "except ZeroDivisionError:\n",
    "    print('Division by Zero is Not Possible')"
   ]
  },
  {
   "cell_type": "markdown",
   "id": "f60fc7b2",
   "metadata": {},
   "source": [
    "que2- What are the two most popular try statement variations?"
   ]
  },
  {
   "cell_type": "markdown",
   "id": "2d7b4818",
   "metadata": {},
   "source": [
    "ans2- The Popular try statement variations are:\n",
    "\n",
    "1.try---->except\n",
    "\n",
    "2.try---->except---->finally\n",
    "\n",
    "3.try---->except---->finally---->else"
   ]
  },
  {
   "cell_type": "markdown",
   "id": "56f5983d",
   "metadata": {},
   "source": [
    "que3- What is the purpose of the raise statement?"
   ]
  },
  {
   "cell_type": "markdown",
   "id": "661307ff",
   "metadata": {},
   "source": [
    "ans3- __raise__ statement is used to trigger an exception explicitly, if a certain condition is not as per requirement of programmer."
   ]
  },
  {
   "cell_type": "markdown",
   "id": "e63c3017",
   "metadata": {},
   "source": [
    "que4- What does the assert statement do, and what other statement is it like?"
   ]
  },
  {
   "cell_type": "markdown",
   "id": "d8805faa",
   "metadata": {},
   "source": [
    "ans4- An assert statement checks whether a condition is true or not. If a condition evaluates to True, a program will keep running. If a condition is false, the program will return an AssertionError. At this point, the program will stop executing. Assertion is like raise statement.This statement takes a boolean condition output of which is True, Further Program Executes."
   ]
  },
  {
   "cell_type": "code",
   "execution_count": 3,
   "id": "d9618e1c",
   "metadata": {},
   "outputs": [
    {
     "ename": "AssertionError",
     "evalue": "5 is not equal to 4",
     "output_type": "error",
     "traceback": [
      "\u001b[1;31m---------------------------------------------------------------------------\u001b[0m",
      "\u001b[1;31mAssertionError\u001b[0m                            Traceback (most recent call last)",
      "\u001b[1;32m~\\AppData\\Local\\Temp/ipykernel_9448/2039004643.py\u001b[0m in \u001b[0;36m<module>\u001b[1;34m\u001b[0m\n\u001b[1;32m----> 1\u001b[1;33m \u001b[1;32massert\u001b[0m\u001b[1;33m(\u001b[0m\u001b[1;36m5\u001b[0m\u001b[1;33m==\u001b[0m\u001b[1;36m4\u001b[0m\u001b[1;33m)\u001b[0m\u001b[1;33m,\u001b[0m \u001b[1;34m\"5 is not equal to 4\"\u001b[0m\u001b[1;33m\u001b[0m\u001b[1;33m\u001b[0m\u001b[0m\n\u001b[0m",
      "\u001b[1;31mAssertionError\u001b[0m: 5 is not equal to 4"
     ]
    }
   ],
   "source": [
    "assert(5==4), \"5 is not equal to 4\""
   ]
  },
  {
   "cell_type": "markdown",
   "id": "02d510c1",
   "metadata": {},
   "source": [
    "que5- What is the purpose of the with/as argument, and what other statement is it like?"
   ]
  },
  {
   "cell_type": "markdown",
   "id": "90f90c1f",
   "metadata": {},
   "source": [
    "ans5- The __with__ statement in Python is used for resource management and exception handling. We use it while working with file streams. For example, the statement ensures that the file stream process doesn't block other processes if an exception is raised, but terminates properly. We can use a try statement or block it is somewhat similar to with."
   ]
  },
  {
   "cell_type": "code",
   "execution_count": null,
   "id": "f3b57cf4",
   "metadata": {},
   "outputs": [],
   "source": []
  }
 ],
 "metadata": {
  "kernelspec": {
   "display_name": "Python 3 (ipykernel)",
   "language": "python",
   "name": "python3"
  },
  "language_info": {
   "codemirror_mode": {
    "name": "ipython",
    "version": 3
   },
   "file_extension": ".py",
   "mimetype": "text/x-python",
   "name": "python",
   "nbconvert_exporter": "python",
   "pygments_lexer": "ipython3",
   "version": "3.9.7"
  }
 },
 "nbformat": 4,
 "nbformat_minor": 5
}
