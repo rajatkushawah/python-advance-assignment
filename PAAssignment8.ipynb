{
 "cells": [
  {
   "cell_type": "markdown",
   "id": "fc74999c",
   "metadata": {},
   "source": [
    "que1- What are the two latest user-defined exception constraints in Python 3.X?"
   ]
  },
  {
   "cell_type": "markdown",
   "id": "399c9b43",
   "metadata": {},
   "source": [
    "ans1- __raise__ and __assert__ are the two latest user-defined exception constraints in Python 3.X"
   ]
  },
  {
   "cell_type": "markdown",
   "id": "8170efb9",
   "metadata": {},
   "source": [
    "que2- How are class-based exceptions that have been raised matched to handlers?"
   ]
  },
  {
   "cell_type": "markdown",
   "id": "e629bbeb",
   "metadata": {},
   "source": [
    "ans2- In python, Users can define custom exceptions by creating a new class. This exception class has to be derived, either directly or indirectly from built-in Exception class. This new exception class like other exceptions can be raised using the raise statement with an optional error message."
   ]
  },
  {
   "cell_type": "code",
   "execution_count": 2,
   "id": "c30691a6",
   "metadata": {},
   "outputs": [
    {
     "ename": "invalidpass",
     "evalue": "Entered password is not Correct",
     "output_type": "error",
     "traceback": [
      "\u001b[1;31m---------------------------------------------------------------------------\u001b[0m",
      "\u001b[1;31minvalidpass\u001b[0m                               Traceback (most recent call last)",
      "\u001b[1;32m~\\AppData\\Local\\Temp/ipykernel_3488/4045865911.py\u001b[0m in \u001b[0;36m<module>\u001b[1;34m\u001b[0m\n\u001b[0;32m      3\u001b[0m         \u001b[0mself\u001b[0m\u001b[1;33m.\u001b[0m\u001b[0mmsg\u001b[0m\u001b[1;33m=\u001b[0m\u001b[0mmsg\u001b[0m\u001b[1;33m\u001b[0m\u001b[1;33m\u001b[0m\u001b[0m\n\u001b[0;32m      4\u001b[0m \u001b[0mpassword\u001b[0m \u001b[1;33m=\u001b[0m \u001b[1;36m2341\u001b[0m\u001b[1;33m\u001b[0m\u001b[1;33m\u001b[0m\u001b[0m\n\u001b[1;32m----> 5\u001b[1;33m \u001b[1;32mif\u001b[0m \u001b[0mpassword\u001b[0m \u001b[1;33m!=\u001b[0m \u001b[1;36m1234\u001b[0m\u001b[1;33m:\u001b[0m \u001b[1;32mraise\u001b[0m \u001b[0minvalidpass\u001b[0m\u001b[1;33m(\u001b[0m\u001b[1;34m\"Entered password is not Correct\"\u001b[0m\u001b[1;33m)\u001b[0m\u001b[1;33m\u001b[0m\u001b[1;33m\u001b[0m\u001b[0m\n\u001b[0m",
      "\u001b[1;31minvalidpass\u001b[0m: Entered password is not Correct"
     ]
    }
   ],
   "source": [
    "class invalidpass(Exception):\n",
    "    def __init__ (self,msg):\n",
    "        self.msg=msg\n",
    "password = 2341\n",
    "if password != 1234: raise invalidpass(\"Entered password is not Correct\")"
   ]
  },
  {
   "cell_type": "markdown",
   "id": "f4e8aac8",
   "metadata": {},
   "source": [
    "que3- Describe two methods for attaching context information to exception artefacts."
   ]
  },
  {
   "cell_type": "markdown",
   "id": "93d1ec52",
   "metadata": {},
   "source": [
    "ans3- The __process()__ method of LoggerAdapter is where the contextual information is added to the logging output. its passes the message and keyword arguments of the logging call, and it passes back modified versions of these to use in the call to the underlying logger.\n",
    "\n",
    "Other method that can be used is __exception()__, Logs a messgae with level ERROR on this logger. The arguments are interpreted as for __debug()__. Exception info is added to the logging message."
   ]
  },
  {
   "cell_type": "markdown",
   "id": "4285c744",
   "metadata": {},
   "source": [
    "que4- Describe two methods for specifying the text of an exception object's error message."
   ]
  },
  {
   "cell_type": "markdown",
   "id": "fbabe525",
   "metadata": {},
   "source": [
    "ans4- __raise__ and __assert__ are two methods for specifying the text of an exception object's error message.raise statement is used to trigger explicit exception, if certain condition is not as per requirement of programmer. it helps in triggering exception as per need of programmer and logic."
   ]
  },
  {
   "cell_type": "markdown",
   "id": "fd590231",
   "metadata": {},
   "source": [
    "que5- Why do you no longer use string-based exceptions?"
   ]
  },
  {
   "cell_type": "markdown",
   "id": "1007b6b1",
   "metadata": {},
   "source": [
    "ans5- String-based Exceptions doesn't inherit from Exceptions. so plain exceptions catch all exceptions and not only system."
   ]
  }
 ],
 "metadata": {
  "kernelspec": {
   "display_name": "Python 3 (ipykernel)",
   "language": "python",
   "name": "python3"
  },
  "language_info": {
   "codemirror_mode": {
    "name": "ipython",
    "version": 3
   },
   "file_extension": ".py",
   "mimetype": "text/x-python",
   "name": "python",
   "nbconvert_exporter": "python",
   "pygments_lexer": "ipython3",
   "version": "3.9.7"
  }
 },
 "nbformat": 4,
 "nbformat_minor": 5
}
