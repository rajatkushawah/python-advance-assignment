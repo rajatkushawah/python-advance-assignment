{
 "cells": [
  {
   "cell_type": "markdown",
   "id": "802a5229",
   "metadata": {},
   "source": [
    "que1- In Python 3.X, what are the names and functions of string object types?"
   ]
  },
  {
   "cell_type": "markdown",
   "id": "eaeacb3c",
   "metadata": {},
   "source": [
    "ans1- The following are the names and functions of string object types in Python 3.X - "
   ]
  },
  {
   "cell_type": "markdown",
   "id": "55806a34",
   "metadata": {},
   "source": [
    "- `<stirng>.isdecimal()` -> Returns True if all characters in a string are decimal.\n",
    "- `<string>.isalnum()` -> Returns True if all characters in the string are AlphaNumeric.\n",
    "- `<string>.istitle()` -> Returns True if first character in a string is in Uppercase.\n",
    "- `<string>.partition(<sub_string>)` -> Splits string at first occurance of sub string and returns a tuple of 3 elements.\n",
    "- `<string>.rpartition(<sub_string>)` -> Splits string at last occurance of sub string and returns a tuple of 3 elements.\n",
    "- `<string>.isidentifier()` -> Returns True if give string is a valid identifier name.\n",
    "- `len(<string>)` -> Returns the length of the given string.\n",
    "- `<string>.index(<sub_string>)` -> Returns the lowest index of substring if substring is found in the string.\n",
    "- `<string>.rindex(<sub_string>)` -> Returns the highest index of substring if substring is found in the string.\n",
    "- `max(<string>)` -> Returns the highest Alphabetical Character in the string as per ASCII.\n",
    "- `min(<string>)` -> Returns the lowest Alphabetical Character in the string as per ASCII.\n",
    "- `<string>.splitlines()` -> Returns a list of lines in the string.\n",
    "- `<string>.capitalize()` -> Returns the string with first character capitalized.\n",
    "- `<string>.upper()` -> Returns the string with all characters in uppercase.\n",
    "- `<string>.lower()` -> Returns the string with all characters in lowercase\n",
    "- `<string>.casefold()` -> Returns the string in lowercase which can be used for caseless comparisions.\n",
    "- `<string>.expandtabs(no_of_spaces)` -> Replaces tabs in a string with specified no of spaces default is 8\n",
    "- `<string>.find(<sub_string>)` -> Returns lowest index of substring if substring is found in the string else returns -1.\n",
    "- `<string>.rfind(<sub_string>)` -> Returns highest index of substring if substring is found in the string else returns -1.\n",
    "- `<string>.count(<char>)` -> Returns the no of occurances of the char in the given string.\n",
    "- `<string>.split(<sep>)` -> Returns list of words seperated by given sep else seperated by whitespace.\n",
    "- `<string>.rsplit(<sep>)` -> Returns list of words seperated by given sep else seperated by whitespace scanning from end.\n",
    "- `<string>.lstrip()` -> Returns a copy of where leading whitespaces are removed.\n",
    "- `<string>.rstrip()` -> Returns a copy of where trailed whitespaces are removed.\n",
    "- `<string>.strip()` -> Returns a copy of where both leading and trailing whitespaces are removed.\n",
    "- `<string>.swapcase()` -> Swaps lowercase characters with uppercase and vice versa.\n",
    "- `<sep>.join(<list>)` -> Concatenates a list or tuple of words with intervening occuernces of sep.\n",
    "- `<string>.translate(<mapping_table>)` -> translates the characters using table.\n",
    "- `<string>.maketrans(<dict>)` -> Creating a mapping translation tbale usable for `<string>.translate(<mapping_table>)`\n",
    "- `<string>.replace(<char_1>,<char_2>)` -> Replace all occurances of char_1 with char_2 in string.\n",
    "- `<string>.encode()` -> Encodes string into any encoding supported by python. Default encoding is UTF-8.\n",
    "- `<string>.ljust(<no_of_spaces>)` -> Left-justify in a field of given width.\n",
    "- `<string>.rjust(<no_of_spaces>)` -> Right-justify in a field of given width.\n",
    "- `<string>.center(<no_of_spaces>)` -> Center-justify in a field of given width.\n",
    "- `<stirng>.zfill(<length>)` -> Zfill adds zeros to the begining of string until the specified length is reached."
   ]
  },
  {
   "cell_type": "markdown",
   "id": "2925c68f",
   "metadata": {},
   "source": [
    "que2- How do the string forms in Python 3.X vary in terms of operations?"
   ]
  },
  {
   "cell_type": "markdown",
   "id": "36be4456",
   "metadata": {},
   "source": [
    "ans2- In Python3 default format of strings is Unicode Whereas in Pyton2 we need to explicitly mention Unicode value using u."
   ]
  },
  {
   "cell_type": "markdown",
   "id": "2601f522",
   "metadata": {},
   "source": [
    "que3- In 3.X, how do you put non-ASCII Unicode characters in a string?"
   ]
  },
  {
   "cell_type": "markdown",
   "id": "f3eb98ed",
   "metadata": {},
   "source": [
    "ans3- In Python 3.x __unidecode()__ method from unidecode library can be used to put non-ASCII Unicode Characters in a string."
   ]
  },
  {
   "cell_type": "markdown",
   "id": "358af650",
   "metadata": {},
   "source": [
    "que4- In Python 3.X, what are the key differences between text-mode and binary-mode files?"
   ]
  },
  {
   "cell_type": "markdown",
   "id": "c3b070f4",
   "metadata": {},
   "source": [
    "ans4- The major difference between these two is that a text file contains textual information in the form of alphabets, digits and special characters or symbols. On the other hand, a binary file contains bytes or a compiled version of a text file."
   ]
  },
  {
   "cell_type": "markdown",
   "id": "c35304df",
   "metadata": {},
   "source": [
    "que5- How can you interpret a Unicode text file containing text encoded in a different encoding than your platform's default?"
   ]
  },
  {
   "cell_type": "markdown",
   "id": "d867ddcc",
   "metadata": {},
   "source": [
    "ans5- Use of __encode()__ and __decode()__ method can be used to you interpret a Unicode text file containing text encoded in a different encoding than your platform's default, by default encoding parameter is UTF-8."
   ]
  },
  {
   "cell_type": "markdown",
   "id": "5459cefe",
   "metadata": {},
   "source": [
    "que6- What is the best way to make a Unicode text file in a particular encoding format?"
   ]
  },
  {
   "cell_type": "markdown",
   "id": "6ce0b3bd",
   "metadata": {},
   "source": [
    "ans6- Use __str.encode()__ and __file.write()__ to make a Unicode text file in a particular encoding format, default encoding format is UTF-18.\n",
    "\n",
    "Call __str.encode(encoding)__ with encoding set to utf8 to encode str.\n",
    "\n",
    "Call __open(file, mode)__ to open a file with mode set to wb . wb writes to files in binary mode & preserves UTF-8format.\n",
    "\n",
    "Call __file.write(data)__ to write data to the file."
   ]
  },
  {
   "cell_type": "markdown",
   "id": "843de877",
   "metadata": {},
   "source": [
    "que7- What qualifies ASCII text as a form of Unicode text?"
   ]
  },
  {
   "cell_type": "markdown",
   "id": "ae96adce",
   "metadata": {},
   "source": [
    "ans7- Unicode represents most written languages in the world. ASCII has its equivalent in Unicode. The difference between ASCII and Unicode is that ASCII represents lowercase letters (a-z), uppercase letters (A-Z), digits (0–9) and symbols such as punctuation marks while Unicode represents letters of English, Arabic, Greek etc. mathematical symbols, historical scripts, emoji covering a wide range of characters than ASCII."
   ]
  },
  {
   "cell_type": "markdown",
   "id": "7b008737",
   "metadata": {},
   "source": [
    "que8- How much of an effect does the change in string types in Python 3.X have on your code?"
   ]
  },
  {
   "cell_type": "markdown",
   "id": "2e37a1eb",
   "metadata": {},
   "source": [
    "ans8- Python 3 stores strings as Unicode by default whereas Python 2 requires you to mark a string with a u if you want to store it as Unicode. Unicode strings are more versatile than ASCII strings, which are the Python 3.X default, as they can store letters from foreign languages as well as emoji and the standard Roman letters and numerals."
   ]
  }
 ],
 "metadata": {
  "kernelspec": {
   "display_name": "Python 3 (ipykernel)",
   "language": "python",
   "name": "python3"
  },
  "language_info": {
   "codemirror_mode": {
    "name": "ipython",
    "version": 3
   },
   "file_extension": ".py",
   "mimetype": "text/x-python",
   "name": "python",
   "nbconvert_exporter": "python",
   "pygments_lexer": "ipython3",
   "version": "3.9.7"
  }
 },
 "nbformat": 4,
 "nbformat_minor": 5
}
